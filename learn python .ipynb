{
 "cells": [
  {
   "cell_type": "code",
   "execution_count": 7,
   "id": "d44a980a-9932-4186-8bea-8caa971c7f73",
   "metadata": {},
   "outputs": [
    {
     "name": "stdout",
     "output_type": "stream",
     "text": [
      "hello world\n"
     ]
    }
   ],
   "source": [
    "print(\"hello world\")"
   ]
  },
  {
   "cell_type": "code",
   "execution_count": 8,
   "id": "55625867-55f6-4f21-8377-9971ebf48430",
   "metadata": {},
   "outputs": [
    {
     "name": "stdout",
     "output_type": "stream",
     "text": [
      "3.13.5 | packaged by Anaconda, Inc. | (main, Jun 12 2025, 16:37:03) [MSC v.1929 64 bit (AMD64)]\n"
     ]
    }
   ],
   "source": [
    "import sys\n",
    "\n",
    "print(sys.version)"
   ]
  },
  {
   "cell_type": "code",
   "execution_count": 17,
   "id": "37053f1f-ab68-4679-bffe-a3bd107c4692",
   "metadata": {},
   "outputs": [
    {
     "name": "stdout",
     "output_type": "stream",
     "text": [
      "hello Khushi you are 20 \n",
      " you are beautiful!\n"
     ]
    }
   ],
   "source": [
    "#variable\n",
    "name =\"Khushi\"\n",
    "age=20\n",
    "print(\"hello\",name,\"you are\",age,\"\\n\",\"you are beautiful!\")"
   ]
  },
  {
   "cell_type": "code",
   "execution_count": 25,
   "id": "2d8fc55a-81dc-42ab-b197-f7d8f6be246f",
   "metadata": {},
   "outputs": [
    {
     "name": "stdout",
     "output_type": "stream",
     "text": [
      "3\n",
      "3\n",
      "3.0\n",
      "<class 'str'>\n",
      "<class 'int'>\n",
      "<class 'float'>\n"
     ]
    }
   ],
   "source": [
    "#casting\n",
    "x = str(3)\n",
    "y = int(3)\n",
    "z = float(3)\n",
    "print(x)\n",
    "print(y)\n",
    "print(z)\n",
    "print(type(x))\n",
    "print(type(y))\n",
    "print(type(z))\n"
   ]
  },
  {
   "cell_type": "code",
   "execution_count": 27,
   "id": "199d043e-5477-4240-ac2e-d8bb59e6a655",
   "metadata": {},
   "outputs": [
    {
     "name": "stdout",
     "output_type": "stream",
     "text": [
      "apple\n",
      "banana\n",
      "cherry\n"
     ]
    }
   ],
   "source": [
    "#unpack a list in variable\n",
    "fruits =[\"apple\",\"banana\",\"cherry\"]\n",
    "x,y,z=fruits\n",
    "print(x)\n",
    "print(y)\n",
    "print(z)"
   ]
  },
  {
   "cell_type": "code",
   "execution_count": 28,
   "id": "3ecc6eb2-5769-4940-98fa-e77c967c5c14",
   "metadata": {},
   "outputs": [
    {
     "name": "stdout",
     "output_type": "stream",
     "text": [
      "Python is awesome\n"
     ]
    }
   ],
   "source": [
    "x = \"Python \"\n",
    "y = \"is \"\n",
    "z = \"awesome\"\n",
    "print(x+y+z)"
   ]
  },
  {
   "cell_type": "code",
   "execution_count": 35,
   "id": "cf4681a7-1053-4db2-8f50-967cbfea20b2",
   "metadata": {},
   "outputs": [
    {
     "name": "stdout",
     "output_type": "stream",
     "text": [
      "7\n",
      "3\n",
      "10\n",
      "2.5\n",
      "2\n",
      "25\n",
      "1\n"
     ]
    }
   ],
   "source": [
    "# Arithmetic operator\n",
    "a=5\n",
    "b=2\n",
    "sum=a+b\n",
    "diff=a-b\n",
    "print(sum)\n",
    "print(diff)\n",
    "mul=a*b\n",
    "print(mul)\n",
    "div=a/b\n",
    "print(div)\n",
    "floor=a//b\n",
    "print(floor)\n",
    "exponential=a**b\n",
    "print(exponential)\n",
    "modulo=a % b\n",
    "print(modulo)"
   ]
  },
  {
   "cell_type": "code",
   "execution_count": 39,
   "id": "5523fdf7-fc35-43fd-979e-f19e0ee2ab18",
   "metadata": {},
   "outputs": [
    {
     "name": "stdout",
     "output_type": "stream",
     "text": [
      "False\n",
      "True\n",
      "False\n",
      "True\n",
      "False\n",
      "True\n"
     ]
    }
   ],
   "source": [
    "#relational operator\n",
    "a=20\n",
    "b=10\n",
    "print(a==b)\n",
    "print(a!=b)\n",
    "print(a<=b)\n",
    "print(a>=b)\n",
    "print(a<b)\n",
    "print(a>b)"
   ]
  },
  {
   "cell_type": "code",
   "execution_count": 44,
   "id": "1085adff-a18a-4afa-9ebf-bf4254e1dd86",
   "metadata": {},
   "outputs": [
    {
     "name": "stdout",
     "output_type": "stream",
     "text": [
      "20\n"
     ]
    }
   ],
   "source": [
    "#assignment\n",
    "aa=10\n",
    "aa+=10\n",
    "#aa = aa +10\n",
    "print(aa)"
   ]
  },
  {
   "cell_type": "code",
   "execution_count": 55,
   "id": "5db1a251-8020-4100-9170-d282a6a2d158",
   "metadata": {},
   "outputs": [
    {
     "name": "stdout",
     "output_type": "stream",
     "text": [
      "True\n",
      "False\n",
      "True\n",
      "False\n",
      "True\n",
      "True\n",
      "True\n"
     ]
    }
   ],
   "source": [
    "#logical \n",
    "print(not False)\n",
    "print(not True)\n",
    "a=30\n",
    "b=20\n",
    "print( (a>b))\n",
    "print( not (a>b))\n",
    "print(a==b or a>b)\n",
    "\n",
    "val1 =True\n",
    "val2 =True\n",
    "print(val1 and val2)\n",
    "print (val1 or val2)\n"
   ]
  },
  {
   "cell_type": "code",
   "execution_count": 56,
   "id": "75778a93-18bb-4a83-b904-89a0b0744840",
   "metadata": {},
   "outputs": [
    {
     "name": "stdout",
     "output_type": "stream",
     "text": [
      "Python is awesome\n"
     ]
    }
   ],
   "source": [
    "#create var outside a function , and use inside\n",
    "x = \"awesome\"\n",
    "\n",
    "def myfunc():\n",
    "  print(\"Python is \" + x)\n",
    "\n",
    "myfunc()"
   ]
  },
  {
   "cell_type": "code",
   "execution_count": 57,
   "id": "cb29da08-fca8-4b02-bc38-30f3bf03b51e",
   "metadata": {},
   "outputs": [
    {
     "name": "stdout",
     "output_type": "stream",
     "text": [
      "Python is fantastic\n",
      "Python is awesome\n"
     ]
    }
   ],
   "source": [
    "x = \"awesome\"\n",
    "\n",
    "def myfunc():\n",
    "  x = \"fantastic\"\n",
    "  print(\"Python is \" + x)\n",
    "\n",
    "myfunc()\n",
    "\n",
    "print(\"Python is \" + x)"
   ]
  },
  {
   "cell_type": "code",
   "execution_count": 62,
   "id": "558a1727-ef19-4c45-aeeb-f9384ab79e8e",
   "metadata": {},
   "outputs": [
    {
     "name": "stdout",
     "output_type": "stream",
     "text": [
      "7\n"
     ]
    }
   ],
   "source": [
    "import random\n",
    "print(random.randrange(1, 10))\n"
   ]
  },
  {
   "cell_type": "code",
   "execution_count": null,
   "id": "7e994ea5-0041-4fa4-85ef-02f2a6ada27b",
   "metadata": {},
   "outputs": [],
   "source": [
    "#taking input\n",
    "name =input(\"enter your name:\")\n",
    "print(\"welcome\",name)"
   ]
  },
  {
   "cell_type": "code",
   "execution_count": null,
   "id": "2e4c7568-2d56-4160-99ad-3d4afb1ca2ad",
   "metadata": {},
   "outputs": [],
   "source": []
  }
 ],
 "metadata": {
  "kernelspec": {
   "display_name": "Python 3 (ipykernel)",
   "language": "python",
   "name": "python3"
  },
  "language_info": {
   "codemirror_mode": {
    "name": "ipython",
    "version": 3
   },
   "file_extension": ".py",
   "mimetype": "text/x-python",
   "name": "python",
   "nbconvert_exporter": "python",
   "pygments_lexer": "ipython3",
   "version": "3.13.5"
  }
 },
 "nbformat": 4,
 "nbformat_minor": 5
}
