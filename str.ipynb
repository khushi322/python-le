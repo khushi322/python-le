{
 "cells": [
  {
   "cell_type": "code",
   "execution_count": 2,
   "id": "8c03c071-948e-4f75-83cd-9be9e23ccf25",
   "metadata": {},
   "outputs": [
    {
     "name": "stdout",
     "output_type": "stream",
     "text": [
      "<class 'str'>\n"
     ]
    }
   ],
   "source": [
    "str=\"this is string\"\n",
    "print(type(str))"
   ]
  },
  {
   "cell_type": "code",
   "execution_count": 3,
   "id": "daf93878-bc65-41d7-a792-d85c4d8de88f",
   "metadata": {},
   "outputs": [
    {
     "name": "stdout",
     "output_type": "stream",
     "text": [
      "It's alright\n",
      "He is called 'Johnny'\n",
      "He is called \"Johnny\"\n"
     ]
    }
   ],
   "source": [
    "print(\"It's alright\")\n",
    "print(\"He is called 'Johnny'\")\n",
    "print('He is called \"Johnny\"')"
   ]
  },
  {
   "cell_type": "code",
   "execution_count": 20,
   "id": "f989662a-7e2a-40e2-8353-f43621fad768",
   "metadata": {},
   "outputs": [
    {
     "name": "stdout",
     "output_type": "stream",
     "text": [
      "e\n",
      "o\n",
      "13\n"
     ]
    }
   ],
   "source": [
    "a = \"Hello, World!\"\n",
    "print(a[1])\n",
    "print(a[4])\n",
    "#length\n",
    "print(len(name))"
   ]
  },
  {
   "cell_type": "code",
   "execution_count": 56,
   "id": "ffd7a40b-14e3-48fa-8ece-d7b7deec022b",
   "metadata": {},
   "outputs": [
    {
     "name": "stdout",
     "output_type": "stream",
     "text": [
      "Khushi Shukla\n",
      "KHUSHI SHUKLA\n",
      "khushi shukla\n",
      "Jello, World!\n",
      "jjj\n",
      "1\n",
      "0\n"
     ]
    }
   ],
   "source": [
    "name= \"khushi shukla\"\n",
    "print(name.title())\n",
    "print(name.upper())\n",
    "print(name.lower())\n",
    "\n",
    "#replace \n",
    "a = \"Hello, World!\"\n",
    "print(a.replace(\"H\", \"J\"))\n",
    "o=\"kkk\"\n",
    "print(o.replace(\"k\",\"j\"))\n",
    "\n",
    "#find\n",
    "print(a.find(\"e\"))\n",
    "\n",
    "#count\n",
    "print(a.count(o))"
   ]
  },
  {
   "cell_type": "code",
   "execution_count": 18,
   "id": "f2932131-3ee7-458c-9a1e-da701e646b87",
   "metadata": {},
   "outputs": [
    {
     "name": "stdout",
     "output_type": "stream",
     "text": [
      "hello world\n"
     ]
    }
   ],
   "source": [
    "#concatinate\n",
    "a=\"hello\"\n",
    "b=\"world\"\n",
    "print(a+\" \"+ b)"
   ]
  },
  {
   "cell_type": "code",
   "execution_count": 34,
   "id": "534f8557-aa2e-4a99-ba44-1917294e679d",
   "metadata": {},
   "outputs": [
    {
     "name": "stdout",
     "output_type": "stream",
     "text": [
      "b\n",
      "a\n",
      "n\n",
      "a\n",
      "n\n",
      "a\n",
      "\n",
      "c\n",
      "h\n",
      "e\n",
      "r\n",
      "r\n",
      "y\n"
     ]
    }
   ],
   "source": [
    "# looping through string\n",
    "for x in \"banana\":\n",
    "  print(x)\n",
    "print()\n",
    "name=\"cherry\"\n",
    "for character in name:\n",
    "    print(character)"
   ]
  },
  {
   "cell_type": "code",
   "execution_count": 41,
   "id": "2db66e11-266d-4b25-8a90-4b67397dd8ac",
   "metadata": {},
   "outputs": [
    {
     "name": "stdout",
     "output_type": "stream",
     "text": [
      "llo\n",
      "Hello\n",
      "llo, World!\n",
      "orl\n"
     ]
    }
   ],
   "source": [
    "#slicing\n",
    "b = \"Hello, World!\"\n",
    "print(b[2:5])\n",
    "\n",
    "#slice from start\n",
    "print(b[:5])\n",
    "\n",
    "#slice to the end \n",
    "print(b[2:])\n",
    "\n",
    "#negative indexing\n",
    "print(b[-5:-2])"
   ]
  },
  {
   "cell_type": "code",
   "execution_count": 1,
   "id": "e394f1d5-e58a-4d65-baad-0e668fcd2aaa",
   "metadata": {},
   "outputs": [
    {
     "name": "stdout",
     "output_type": "stream",
     "text": [
      "My name is John, I am 36\n"
     ]
    }
   ],
   "source": [
    "#format string\n",
    "age = 36\n",
    "txt = f\"My name is John, I am {age}\"\n",
    "print(txt)"
   ]
  },
  {
   "cell_type": "code",
   "execution_count": null,
   "id": "7a68cf4b-946d-49fb-9189-facc06781e61",
   "metadata": {},
   "outputs": [],
   "source": []
  }
 ],
 "metadata": {
  "kernelspec": {
   "display_name": "Python 3 (ipykernel)",
   "language": "python",
   "name": "python3"
  },
  "language_info": {
   "codemirror_mode": {
    "name": "ipython",
    "version": 3
   },
   "file_extension": ".py",
   "mimetype": "text/x-python",
   "name": "python",
   "nbconvert_exporter": "python",
   "pygments_lexer": "ipython3",
   "version": "3.13.5"
  }
 },
 "nbformat": 4,
 "nbformat_minor": 5
}
